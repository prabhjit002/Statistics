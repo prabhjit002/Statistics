{
  "nbformat": 4,
  "nbformat_minor": 0,
  "metadata": {
    "colab": {
      "provenance": [],
      "authorship_tag": "ABX9TyN4JcJtJKPqMDWRoscy8LSG",
      "include_colab_link": true
    },
    "kernelspec": {
      "name": "python3",
      "display_name": "Python 3"
    },
    "language_info": {
      "name": "python"
    }
  },
  "cells": [
    {
      "cell_type": "markdown",
      "metadata": {
        "id": "view-in-github",
        "colab_type": "text"
      },
      "source": [
        "<a href=\"https://colab.research.google.com/github/prabhjit002/Statistics/blob/main/ASM3.ipynb\" target=\"_parent\"><img src=\"https://colab.research.google.com/assets/colab-badge.svg\" alt=\"Open In Colab\"/></a>"
      ]
    },
    {
      "cell_type": "markdown",
      "source": [
        "1. Find the probability of getting a total score of 7 or even number when rolling two dice for 1000 times."
      ],
      "metadata": {
        "id": "hsZnDDcb1zKT"
      }
    },
    {
      "cell_type": "code",
      "source": [
        "import numpy as np"
      ],
      "metadata": {
        "id": "uXeOWRI91z4x"
      },
      "execution_count": null,
      "outputs": []
    },
    {
      "cell_type": "code",
      "source": [
        "# Function to simulate rolling two dice\n",
        "def roll_two_dice(n):\n",
        "    dice1 = np.random.randint(1, 7, size=n)  # Rolls for the first die (1-6)\n",
        "    dice2 = np.random.randint(1, 7, size=n)  # Rolls for the second die (1-6)\n",
        "    total = dice1 + dice2                    # Sum of both dice\n",
        "    return total"
      ],
      "metadata": {
        "id": "ojr_XFpY16cP"
      },
      "execution_count": null,
      "outputs": []
    },
    {
      "cell_type": "code",
      "source": [
        "trials = 1000"
      ],
      "metadata": {
        "id": "pdP5qzws199g"
      },
      "execution_count": null,
      "outputs": []
    },
    {
      "cell_type": "code",
      "source": [
        "total_scores = roll_two_dice(trials)"
      ],
      "metadata": {
        "id": "ErEEx_yJ2L1U"
      },
      "execution_count": null,
      "outputs": []
    },
    {
      "cell_type": "code",
      "source": [
        "favorable_outcomes = (total_scores == 7) | (total_scores % 2 == 0)\n"
      ],
      "metadata": {
        "id": "54ALpwB_2PID"
      },
      "execution_count": null,
      "outputs": []
    },
    {
      "cell_type": "code",
      "source": [
        "probability = np.sum(favorable_outcomes) / trials\n",
        "\n",
        "print(f\"Probability of getting a total score of 7 or an even number: {probability:.4f}\")"
      ],
      "metadata": {
        "colab": {
          "base_uri": "https://localhost:8080/"
        },
        "id": "oRPZMRIz2VUp",
        "outputId": "fe894836-ada8-4974-f60d-98bf48afc987"
      },
      "execution_count": null,
      "outputs": [
        {
          "output_type": "stream",
          "name": "stdout",
          "text": [
            "Probability of getting a total score of 7 or an even number: 0.6740\n"
          ]
        }
      ]
    },
    {
      "cell_type": "markdown",
      "source": [
        "2. A box contains 10 white balls, 20 red balls and 30 greens. Draw 5 balls with replacement. What is the probability that:\n",
        "a."
      ],
      "metadata": {
        "id": "vnkHIHJw2Yo0"
      }
    },
    {
      "cell_type": "code",
      "source": [
        "from scipy.special import comb\n"
      ],
      "metadata": {
        "id": "SDwKsdFJ2fdh"
      },
      "execution_count": null,
      "outputs": []
    },
    {
      "cell_type": "code",
      "source": [
        "total_balls = 10 + 20 + 30"
      ],
      "metadata": {
        "id": "dKLEXpxM3U6u"
      },
      "execution_count": null,
      "outputs": []
    },
    {
      "cell_type": "code",
      "source": [
        "# Probabilities of drawing each color ball\n",
        "p_white = 10 / total_balls\n",
        "p_red = 20 / total_balls\n",
        "p_green = 30 / total_balls"
      ],
      "metadata": {
        "id": "iVjyjh5B3YIV"
      },
      "execution_count": null,
      "outputs": []
    },
    {
      "cell_type": "code",
      "source": [
        "def probability_3_white_2_red():\n",
        "    # Using the binomial probability formula for 3 white (p_white) and 2 red (p_red)\n",
        "    return (comb(5, 3) * (p_white**3) * (p_red**2))\n"
      ],
      "metadata": {
        "id": "qJojOo7l3dcb"
      },
      "execution_count": null,
      "outputs": []
    },
    {
      "cell_type": "code",
      "source": [
        "prob_a = probability_3_white_2_red()\n",
        "print(f\"Probability of drawing 3 white and 2 red: {prob_a:.6f}\")"
      ],
      "metadata": {
        "colab": {
          "base_uri": "https://localhost:8080/"
        },
        "id": "uGiACCRA3jhW",
        "outputId": "9f4fd085-ed30-45c8-cb41-f309b13862e0"
      },
      "execution_count": null,
      "outputs": [
        {
          "output_type": "stream",
          "name": "stdout",
          "text": [
            "Probability of drawing 3 white and 2 red: 0.005144\n"
          ]
        }
      ]
    },
    {
      "cell_type": "markdown",
      "source": [
        "B."
      ],
      "metadata": {
        "id": "mfXIYChe3uNh"
      }
    },
    {
      "cell_type": "code",
      "source": [
        "def probability_all_same_color():\n",
        "    # Probability of drawing 5 white, 5 red, or 5 green balls\n",
        "    p_all_white = p_white**5\n",
        "    p_all_red = p_red**5\n",
        "    p_all_green = p_green**5\n",
        "    return p_all_white + p_all_red + p_all_green"
      ],
      "metadata": {
        "id": "URIYvZTX3vX3"
      },
      "execution_count": null,
      "outputs": []
    },
    {
      "cell_type": "code",
      "source": [
        "prob_b = probability_all_same_color()\n",
        "print(f\"Probability of all 5 balls being the same color: {prob_b:.6f}\")\n"
      ],
      "metadata": {
        "colab": {
          "base_uri": "https://localhost:8080/"
        },
        "id": "yaSnNA9i30Mb",
        "outputId": "2ed825e1-9c12-47c2-f7e3-875277743444"
      },
      "execution_count": null,
      "outputs": [
        {
          "output_type": "stream",
          "name": "stdout",
          "text": [
            "Probability of all 5 balls being the same color: 0.035494\n"
          ]
        }
      ]
    }
  ]
}